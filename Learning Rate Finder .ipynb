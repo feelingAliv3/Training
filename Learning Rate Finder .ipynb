{
 "cells": [
  {
   "cell_type": "markdown",
   "metadata": {},
   "source": [
    "# Keras Implementation of Fast.ai (learn.lr_find())\n",
    "This notebook is for training and understanding purposes only. All algorithms and credits go to pyimagesearch.com, specifically https://www.pyimagesearch.com/2019/08/05/keras-learning-rate-finder/ and Adrian Rosebrock (A wonderful source and inspiration for Computer Vision and Deep Learning)\n",
    "\n",
    "As this notebook is for training and understanding purposes, rather than downloading the source code right away. The code will be typed in order to build \"muscle-memory\". Author-readable comments will appear from time to time."
   ]
  },
  {
   "cell_type": "markdown",
   "metadata": {},
   "source": [
    "The inspiration comes from trying to reduce the number of epochs for training and achieve optimal training. This technique should be run at the start of the training. Then, potentially combined with ReduceLROnPlateau, or Polynomial decay."
   ]
  },
  {
   "cell_type": "code",
   "execution_count": 15,
   "metadata": {},
   "outputs": [],
   "source": [
    "from tensorflow.keras.callbacks import LambdaCallback\n",
    "import tensorflow.keras.backend as K\n",
    "import matplotlib.pyplot as plt\n",
    "import numpy as np\n",
    "\n",
    "class LearningRateFinder:\n",
    "    def __init__(self, model, stopFactor=4, beta=0.98):\n",
    "        # store the model, stop factor, beta (momentum) value for smoothed average loss\n",
    "        self.model = model\n",
    "        self.stopFactor = stopFactor\n",
    "        self.beta = beta\n",
    "        \n",
    "        # initialize an empty list to store all learning rates and its associated loss\n",
    "        self.lrs = []\n",
    "        self.losses = []\n",
    "        \n",
    "        # initialize learning rate multiplier, avg loss, best loss thus far, current batch number and weight files\n",
    "        self.lrMult = 1\n",
    "        self.avgLoss = 0\n",
    "        self.bestLoss = 1e9\n",
    "        self.batchNum = 0\n",
    "        self.weightsFile = None\n",
    "        \n",
    "    def reset(self):\n",
    "        self.lrs = []\n",
    "        self.losses = []\n",
    "        self.lrMult = 1\n",
    "        self.avgLoss = 0\n",
    "        self.bestLoss = 1e9\n",
    "        self.batchNum = 1\n",
    "        self.weightsFile = None\n",
    "        \n",
    "    def is_data_iter(self, data):\n",
    "        # a boolean function that returns whether if the input is part of the following classes\n",
    "        iterClasses = [\"NumpyArrayIterator\",\"DirectoryIterator\",\"DataFrameIterator\",\"Iterator\",\"Sequence\"]\n",
    "        \n",
    "        return data.__class__.__name__ in iterClasses\n",
    "    \n",
    "    def on_batch_end(self, batch, logs):\n",
    "        lr = K.get_value(self.model.optimizer.lr)\n",
    "        self.lrs.append(lr)\n",
    "        \n",
    "        l = logs[\"loss\"]\n",
    "        self.batchNum += 1\n",
    "        self.avgLoss = (self.beta * self.avgLoss) + ((1-self.beta) * l)\n",
    "        smooth = self.avgLoss / (1 - (self.beta ** self.batchNum))\n",
    "        self.losses.append(smooth)\n",
    "        \n",
    "        stopLoss = self.stopFactor * self.bestLoss\n",
    "        \n",
    "        if self.batchNum > 1 and smooth > stopLoss:\n",
    "            self.model.stop_training = True\n",
    "            return\n",
    "        \n",
    "        if self.batchNum == 1 or smooth < stopLoss:\n",
    "            self.bestLoss = smooth\n",
    "            \n",
    "        lr *= self.lrMult\n",
    "        K.set_value(self.model.optimizer.lr, lr)\n",
    "            \n",
    "            \n",
    "    def find(self, trainData, startLR, endLR, epochs=None, stepsPerEpoch=None, batchSize=32, sampleSize=2048, verbose=1):\n",
    "        # the entry point\n",
    "        self.reset()\n",
    "        \n",
    "        useGen = self.is_data_iter(trainData)\n",
    "        \n",
    "        if useGen and stepsPerEpoch is None:\n",
    "            msg = \"using genentrator without supplying stepsPerEpoch\"\n",
    "            raise Exception(msg)\n",
    "            \n",
    "        elif not useGen:\n",
    "            numSamples = len(trainData[0])\n",
    "            stepsPerEpoch = np.ceil(numSamples / float(batchSize))\n",
    "        \n",
    "        if epochs is None:\n",
    "            epochs = int(np.ceil(sampleSize / float(stepsPerEpoch)))\n",
    "        \n",
    "        numBatchUpdates = epochs * stepsPerEpoch\n",
    "        self.lrMult = (endLR/startLR) ** (1.0 / numBatchUpdates)\n",
    "        \n",
    "        self.weightsFile = r\"C:\\Users\\Innovations\\Desktop\\AI\"\n",
    "        self.model.save_weights(self.weightsFile)\n",
    "        \n",
    "        origLR = K.get_value(self.model.optimizer.lr)\n",
    "        K.set_value(self.model.optimizer.lr, startLR)\n",
    "        \n",
    "        callback = LambdaCallback(on_batch_end=lambda batch, logs : self.on_batch_end(batch, logs))\n",
    "        \n",
    "        if useGen:\n",
    "            self.model.fit_generator(trainData, steps_per_epoch=stepsPerEpoch, epochs=epochs, verbose=verbose, callbacks=[callback])\n",
    "            \n",
    "        else:\n",
    "            self.model.fit(trainData[0], trainData[1], batch_size=batchSize, epochs=epochs, callbacks=[callback], verbose=verbose)\n",
    "            \n",
    "        self.model.load_weights(self.weightsFile)\n",
    "        K.set_value(self.model.optimizer.lr, origLR)\n",
    "        \n",
    "    def plot_loss(self, skipBegin=10, skipEnd=1, title=\"\"):\n",
    "        lrs = self.lrs[skipBegin:-skipEnd]\n",
    "        losses = self.losses[skipBegin:-skipEnd]\n",
    "        \n",
    "        plt.plot(lrs, losses)\n",
    "        plt.xscale(\"log\")\n",
    "        plt.xlabel(\"Learning Rate (Log Scale)\")\n",
    "        plt.ylabel(\"Loss\")\n",
    "        \n",
    "        if title != \"\":\n",
    "            plt.title(title)"
   ]
  },
  {
   "cell_type": "code",
   "execution_count": 2,
   "metadata": {},
   "outputs": [],
   "source": [
    "\n",
    "from tensorflow.keras.layers import BatchNormalization, Conv2D, AveragePooling2D, MaxPooling2D, Activation, Dropout, Dense, concatenate, Flatten, Input\n",
    "from tensorflow.keras.models import Model\n",
    "import tensorflow.keras.backend as K\n",
    "\n",
    "class MiniGoogLeNet:\n",
    "    @staticmethod\n",
    "    def conv_module(x, K, kX, kY, stride, chanDim, padding=\"same\"):\n",
    "        x = Conv2D(K, (kX, kY), strides = stride, padding=padding)(x)\n",
    "        x = BatchNormalization(axis=chanDim)(x)\n",
    "        x = Activation(\"relu\")(x)\n",
    "        \n",
    "        return x\n",
    "    \n",
    "    @staticmethod\n",
    "    def inception_module(x, numK1x1, numK3x3, chanDim):\n",
    "        conv1x1 = MiniGoogLeNet.conv_module(x, numK1x1, 1, 1, (1,1), chanDim)\n",
    "        conv3x3 = MiniGoogLeNet.conv_module(x, numK3x3, 3, 3, (1,1), chanDim)\n",
    "        x = concatenate([conv1x1, conv3x3], axis=chanDim)\n",
    "        \n",
    "        return x\n",
    "    \n",
    "    @staticmethod\n",
    "    def downsample_module(x, K, chanDim):\n",
    "        conv3x3 = MiniGoogLeNet.conv_module(x, K, 3, 3, (2,2), chanDim, padding=\"valid\")\n",
    "        pool = MaxPooling2D((3,3), strides=(2,2))(x)\n",
    "        x= concatenate([conv3x3, pool], axis=chanDim)\n",
    "        \n",
    "        return x\n",
    "    \n",
    "    @staticmethod\n",
    "    def build(width, height, depth, classes):\n",
    "        inputShape = (height, width, depth)\n",
    "        chanDim = -1\n",
    "        \n",
    "        if K.image_data_format() ==\"channels_first\":\n",
    "            inputShape = (depth, height, width)\n",
    "            chanDim = 1\n",
    "            \n",
    "        inputs = Input(shape=inputShape)\n",
    "        x = MiniGoogLeNet.conv_module(inputs, 96, 3, 3, (1,1), chanDim)\n",
    "        x = MiniGoogLeNet.inception_module(x, 32, 32, chanDim)\n",
    "        x = MiniGoogLeNet.inception_module(x, 32, 48, chanDim)\n",
    "        x = MiniGoogLeNet.downsample_module(x, 80, chanDim)\n",
    "        \n",
    "        x = MiniGoogLeNet.inception_module(x, 112, 48, chanDim)\n",
    "        x = MiniGoogLeNet.inception_module(x, 96, 64, chanDim)\n",
    "        x = MiniGoogLeNet.inception_module(x, 80, 80, chanDim)\n",
    "        x = MiniGoogLeNet.inception_module(x, 48, 96, chanDim)\n",
    "        x = MiniGoogLeNet.downsample_module(x, 96, chanDim)\n",
    "        \n",
    "        x = MiniGoogLeNet.inception_module(x, 176, 160, chanDim)\n",
    "        x = MiniGoogLeNet.inception_module(x, 176, 160, chanDim)\n",
    "        x = AveragePooling2D((7, 7))(x)\n",
    "        x = Dropout(0.5)(x)\n",
    "\n",
    "        x = Flatten()(x)\n",
    "        x = Dense(classes)(x)\n",
    "        x = Activation(\"softmax\")(x)\n",
    "\n",
    "        model = Model(inputs, x, name=\"googlenet\")\n",
    "\n",
    "        return model"
   ]
  },
  {
   "cell_type": "code",
   "execution_count": 3,
   "metadata": {},
   "outputs": [],
   "source": [
    "import os\n",
    "\n",
    "CLASSES = [\"top\", \"trouser\", \"pullover\", \"dress\", \"coat\", \"sandal\", \"shirt\", \"sneaker\", \"bag\", \"ankle boot\"]\n",
    "\n",
    "MIN_LR = 1e-5\n",
    "MAX_LR = 1e-2\n",
    "BATCH_SIZE = 64\n",
    "STEP_SIZE = 8\n",
    "CLR_METHOD = \"triangular\"\n",
    "NUM_EPOCHS=48\n",
    "\n",
    "LRFIND_PLOT_PATH = os.path.sep.join([\"output\", \"lrfind_plot.png\"])\n",
    "TRAINING_PLOT_PATH = os.path.sep.join([\"output\", \"training_plot.png\"])\n",
    "CLR_PLOT_PATH = os.path.sep.join([\"output\", \"clr_plot.png\"])"
   ]
  },
  {
   "cell_type": "code",
   "execution_count": 13,
   "metadata": {},
   "outputs": [],
   "source": [
    "import matplotlib\n",
    "matplotlib.use(\"Agg\")\n",
    "%matplotlib inline\n",
    "\n",
    "from sklearn.preprocessing import LabelBinarizer\n",
    "from sklearn.metrics import classification_report\n",
    "from tensorflow.keras.preprocessing.image import ImageDataGenerator\n",
    "from tensorflow.keras.optimizers import SGD\n",
    "from tensorflow.keras.datasets import fashion_mnist\n",
    "import matplotlib.pyplot as plt\n",
    "import numpy as np\n",
    "import argparse\n",
    "import cv2\n",
    "import sys\n",
    "\n",
    "# ap = argparse.ArgumentParser()\n",
    "# ap.add_argument(\"-f\",\"--lr_find\",type=int, default=0, help=\"whether or not to find optimal learning rate\")\n",
    "# args = vars(ap.parse_args())"
   ]
  },
  {
   "cell_type": "code",
   "execution_count": 8,
   "metadata": {},
   "outputs": [
    {
     "name": "stdout",
     "output_type": "stream",
     "text": [
      "[INFO] loading fashion mnist...\n"
     ]
    }
   ],
   "source": [
    "import tensorflow as tf\n",
    "print(\"[INFO] loading fashion mnist...\")\n",
    "((trainX, trainY), (testX, testY)) = fashion_mnist.load_data()\n",
    "\n",
    "trainX = np.array([cv2.resize(x, (32, 32)) for x in trainX])\n",
    "testX = np.array([cv2.resize(x, (32, 32)) for x in testX])\n",
    "\n",
    "trainX = trainX.astype(\"float\")/255.0\n",
    "testX = testX.astype(\"float\")/255.0\n",
    "\n",
    "trainX = tf.expand_dims(trainX, axis=-1)\n",
    "testX = tf.expand_dims(testX, axis=-1)\n",
    "\n",
    "lb = LabelBinarizer()\n",
    "trainY = lb.fit_transform(trainY)\n",
    "testY = lb.transform(testY)\n",
    "\n",
    "aug = ImageDataGenerator(width_shift_range=0.1, height_shift_range=0.1, horizontal_flip=True, fill_mode=\"nearest\")"
   ]
  },
  {
   "cell_type": "code",
   "execution_count": 9,
   "metadata": {},
   "outputs": [
    {
     "name": "stdout",
     "output_type": "stream",
     "text": [
      "[INFO] Compiling model...\n"
     ]
    }
   ],
   "source": [
    "print(\"[INFO] Compiling model...\")\n",
    "opt = SGD(lr=MIN_LR, momentum=0.9)\n",
    "model = MiniGoogLeNet.build(width =32, height = 32, depth = 1, classes=10)\n",
    "model.compile(loss=\"categorical_crossentropy\", optimizer = opt, metrics=[\"accuracy\"])"
   ]
  },
  {
   "cell_type": "code",
   "execution_count": null,
   "metadata": {},
   "outputs": [],
   "source": [
    "model.summary()"
   ]
  },
  {
   "cell_type": "code",
   "execution_count": 16,
   "metadata": {},
   "outputs": [
    {
     "name": "stdout",
     "output_type": "stream",
     "text": [
      "[INFO] finding learning rate...\n",
      "WARNING:tensorflow:sample_weight modes were coerced from\n",
      "  ...\n",
      "    to  \n",
      "  ['...']\n",
      "Train for 938.0 steps\n",
      "Epoch 1/3\n",
      "938/938 [==============================] - 38s 40ms/step - loss: 20.7730 - accuracy: 0.1000\n",
      "Epoch 2/3\n",
      "938/938 [==============================] - 38s 41ms/step - loss: 15.5796 - accuracy: 0.1848\n",
      "Epoch 3/3\n",
      "938/938 [==============================] - 38s 40ms/step - loss: 1.1407 - accuracy: 0.6404\n"
     ]
    },
    {
     "data": {
      "image/png": "[encoded data removed]",
      "text/plain": [
       "<Figure size 432x288 with 1 Axes>"
      ]
     },
     "metadata": {
      "needs_background": "light"
     },
     "output_type": "display_data"
    }
   ],
   "source": [
    "print(\"[INFO] finding learning rate...\")\n",
    "lrf = LearningRateFinder(model)\n",
    "lrf.find(aug.flow(trainX, trainY, batch_size = BATCH_SIZE), 1e-10, 1e+1, stepsPerEpoch = np.ceil((len(trainX) / float(BATCH_SIZE))), batchSize = BATCH_SIZE)\n",
    "\n",
    "lrf.plot_loss()\n",
    "plt.savefig(LRFIND_PLOT_PATH)"
   ]
  },
  {
   "cell_type": "code",
   "execution_count": null,
   "metadata": {},
   "outputs": [],
   "source": [
    "stepSize = STEP_SIZE * (trainX.shape[0] // BATCH_SIZE)\n",
    "clr = CyclicLR(mode = CLR_METHOD, base_lr=MIN_LR, max_lr = MAX_LR, step_size=stepSize())"
   ]
  }
 ],
 "metadata": {
  "kernelspec": {
   "display_name": "Python 3",
   "language": "python",
   "name": "python3"
  },
  "language_info": {
   "codemirror_mode": {
    "name": "ipython",
    "version": 3
   },
   "file_extension": ".py",
   "mimetype": "text/x-python",
   "name": "python",
   "nbconvert_exporter": "python",
   "pygments_lexer": "ipython3",
   "version": "3.7.7"
  }
 },
 "nbformat": 4,
 "nbformat_minor": 4
}
